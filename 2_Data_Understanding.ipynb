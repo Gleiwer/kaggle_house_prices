{
 "cells": [
  {
   "cell_type": "markdown",
   "metadata": {
    "deletable": true,
    "editable": true
   },
   "source": [
    "# 2. Data Understanding\n",
    "## 2.1 Collect Initial Data\n",
    "### Outputs:\n",
    "- Initial Data Collection Report\n",
    "\n"
   ]
  },
  {
   "cell_type": "markdown",
   "metadata": {
    "deletable": true,
    "editable": true
   },
   "source": [
    "## 2.2 Describe Data\n",
    "### Outputs:\n",
    "- Data Description Report \n",
    "\n",
    "[Data description.txt](./data_description.txt)\n",
    "\n"
   ]
  },
  {
   "cell_type": "markdown",
   "metadata": {
    "collapsed": true,
    "deletable": true,
    "editable": true
   },
   "source": [
    "## 2.3 Explore Data\n",
    "\n",
    "[2.3_Explore_Data.ipynb](./2.3_Explore_Data.ipynb)\n",
    "\n",
    "### Conclusions\n",
    "\n",
    "#### A descartar\n",
    "- La variable utilities, se descartará dado el desbalanceo entre los valores, de \n",
    "los 1460 registros, sólo 1 cuenta con un valor diferente al valor que indica que se\n",
    "tienen todos los servicios públicos.\n",
    "\n",
    "### A limpiar\n",
    "- De la variable LotArea, se consideran extremos los valores por encima de 55000\n",
    "- LotFrontage\n",
    "    - La variable LotFrontage, presenta un extremo por encima de 300\n",
    "    - 259 Valores nulos, que se deben llenar con valores promedio\n",
    "- los 1369 valores nulos de la variable Alley, se deben reemplazar con un valor NA ya que corresponde a información real.\n",
    "- MasVnrArea \n",
    "    - La variable MasVnrArea, presenta extremos por encima de 1200\n",
    "    - Los valores nulos se deben reemplazar por valores promedio \n",
    "- En BsmtQual, BsmtCond, BsmtExposure BsmtFinType1 BsmtFinType2, se deben reemplazar los valores nulos por NA ya que corresponde a información real\n",
    "- La variable BsmtFinSF1, presenta extremos por encima de 5000\n",
    "- La variable BsmtFinSF2, presenta extremos por encima de 1400\n",
    "- La variable TotalBsmtSF, presenta extremos por encima de 3500\n",
    "- La variable Electrical presenta valores nulos.\n",
    "- La variable 1stFlrSF, presenta extremos en 0 y por encima de 4000\n",
    "- La variable GrLivArea, presenta extremos en 0\n",
    "- La variable MiscFeature y MiscVal, se reemplazan los valores nulos por NA y 0 respectivamente\n",
    "- En las variables FireplaceQu  y GarageType, e deben reemplazar los nulos por NA, es información real\n",
    "- Las variables GarageYrBlt, GarageFinish, GarageQual, GarageCond, se deben reemplazar los nulos por NA\n",
    "- La variable WoodDeckSF tiene extremos por encima de 750\n",
    "- La variable OpenPorchSF tiene extremos por encima de 400\n",
    "- La variable EnclosedPorch, presenta extremos por encima de 400\n",
    "- En la variable PoolQC y Fence se debe reemplazar los nulos por NA\n",
    "\n",
    "\n",
    "- Se puede construir un nuevo campo fecha_venta a partir de los MoSold y YrSold\n",
    "\n",
    "\n"
   ]
  },
  {
   "cell_type": "markdown",
   "metadata": {
    "deletable": true,
    "editable": true
   },
   "source": [
    "## 2.4 Verify Data Quality\n",
    "### Outputs:\n",
    "\n",
    "- Data Quality Report"
   ]
  }
 ],
 "metadata": {
  "kernelspec": {
   "display_name": "Python 3",
   "language": "python",
   "name": "python3"
  },
  "language_info": {
   "codemirror_mode": {
    "name": "ipython",
    "version": 3
   },
   "file_extension": ".py",
   "mimetype": "text/x-python",
   "name": "python",
   "nbconvert_exporter": "python",
   "pygments_lexer": "ipython3",
   "version": "3.4.3"
  }
 },
 "nbformat": 4,
 "nbformat_minor": 2
}
