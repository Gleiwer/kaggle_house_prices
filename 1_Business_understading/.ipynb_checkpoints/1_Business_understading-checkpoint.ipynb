{
 "cells": [
  {
   "cell_type": "markdown",
   "metadata": {
    "deletable": true,
    "editable": true
   },
   "source": [
    "# 1. Business Understanding\n",
    "## 1.1 Determine Business Objectives\n",
    "### Outputs:\n",
    "- Background\n",
    "- Business Objectives\n",
    "- Business Success\n",
    "- Criteria\n",
    "\n",
    "Ask a home buyer to describe their dream house, and they probably won't begin with the height of the basement ceiling or the proximity to an east-west railroad. But this playground competition's dataset proves that much more influences price negotiations than the number of bedrooms or a white-picket fence.\n",
    "\n",
    "With 79 explanatory variables describing (almost) every aspect of residential homes in Ames, Iowa, this competition challenges you to predict the final price of each home.\n",
    "\n"
   ]
  },
  {
   "cell_type": "markdown",
   "metadata": {},
   "source": [
    "## 1.2 Assess Situation\n",
    "### Outputs:\n",
    "- Inventory of Resources \n",
    "- Requirements, Assumptions, and Constraints\n",
    "- Risks and Contingencies\n",
    "- Terminology\n",
    "- Costs and Benefits\n",
    "\n",
    "## 1.3 Determine Data Mining Goals\n",
    "### Outputs:\n",
    "- Data Mining Goals\n",
    "- Data Mining Success Criteria\n",
    "\n",
    "## 1.4 Produce Project Plan\n",
    "### Outputs:\n",
    "\n",
    "- Project Plan\n",
    "- Initial Assessment of Tools and Techniques"
   ]
  }
 ],
 "metadata": {
  "kernelspec": {
   "display_name": "Python 3",
   "language": "python",
   "name": "python3"
  },
  "language_info": {
   "codemirror_mode": {
    "name": "ipython",
    "version": 3
   },
   "file_extension": ".py",
   "mimetype": "text/x-python",
   "name": "python",
   "nbconvert_exporter": "python",
   "pygments_lexer": "ipython3",
   "version": "3.4.3"
  }
 },
 "nbformat": 4,
 "nbformat_minor": 2
}
