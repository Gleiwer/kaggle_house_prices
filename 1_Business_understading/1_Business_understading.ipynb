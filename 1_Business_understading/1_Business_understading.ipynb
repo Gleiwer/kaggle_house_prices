{
 "cells": [
  {
   "cell_type": "markdown",
   "metadata": {},
   "source": [
    "# 1. Business Understanding\n",
    "## 1.1 Determine Business Objectives\n",
    "### Outputs:\n",
    "- Background\n",
    "- Business Objectives\n",
    "- Business Success\n",
    "- Criteria\n",
    "\n",
    "## 1.2 Assess Situation\n",
    "### Outputs:\n",
    "- Inventory of Resources \n",
    "- Requirements, Assumptions, and Constraints\n",
    "- Risks and Contingencies\n",
    "- Terminology\n",
    "- Costs and Benefits\n",
    "\n",
    "## 1.3 Determine Data Mining Goals\n",
    "### Outputs:\n",
    "- Data Mining Goals\n",
    "- Data Mining Success Criteria\n",
    "\n",
    "## 1.4 Produce Project Plan\n",
    "### Outputs:\n",
    "\n",
    "- Project Plan\n",
    "- Initial Assessment of Tools and Techniques"
   ]
  }
 ],
 "metadata": {
  "kernelspec": {
   "display_name": "Python 3",
   "language": "python",
   "name": "python3"
  },
  "language_info": {
   "codemirror_mode": {
    "name": "ipython",
    "version": 3
   },
   "file_extension": ".py",
   "mimetype": "text/x-python",
   "name": "python",
   "nbconvert_exporter": "python",
   "pygments_lexer": "ipython3",
   "version": "3.4.3"
  }
 },
 "nbformat": 4,
 "nbformat_minor": 2
}
