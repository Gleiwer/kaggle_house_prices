{
 "cells": [
  {
   "cell_type": "markdown",
   "metadata": {
    "deletable": true,
    "editable": true
   },
   "source": [
    "# 3. Data preparation\n"
   ]
  },
  {
   "cell_type": "code",
   "execution_count": 172,
   "metadata": {
    "collapsed": true,
    "deletable": true,
    "editable": true
   },
   "outputs": [],
   "source": [
    "import nltk\n",
    "import pandas as pd\n",
    "import math\n",
    "%matplotlib inline\n",
    "import matplotlib\n",
    "import matplotlib.pyplot as plt\n",
    "from matplotlib import gridspec\n",
    "\n",
    "from sklearn import datasets, linear_model\n",
    "import numpy as np\n",
    "from numbers import Number\n",
    "\n",
    "from sklearn import preprocessing"
   ]
  },
  {
   "cell_type": "code",
   "execution_count": 173,
   "metadata": {
    "collapsed": true
   },
   "outputs": [],
   "source": [
    "def correlation_matrix(df,figsize=(15,15)):\n",
    "    from matplotlib import pyplot as plt\n",
    "    from matplotlib import cm as cm\n",
    "\n",
    "    fig = plt.figure(figsize=figsize)\n",
    "    ax1 = fig.add_subplot(111)\n",
    "    cmap = cm.get_cmap('jet', 30)\n",
    "    cax = ax1.imshow(df.corr(), interpolation=\"nearest\", cmap=cmap)\n",
    "    ax1.grid(True)\n",
    "    # Add colorbar, make sure to specify tick locations to match desired ticklabels\n",
    "    fig.colorbar(cax, ticks=[.75,.8,.85,.90,.95,1])\n",
    "    plt.show()"
   ]
  },
  {
   "cell_type": "code",
   "execution_count": 174,
   "metadata": {
    "collapsed": false,
    "deletable": true,
    "editable": true
   },
   "outputs": [],
   "source": [
    "train= pd.read_csv(\"../data/train.csv\")\n",
    "test=pd.read_csv('../data/test.csv')"
   ]
  },
  {
   "cell_type": "markdown",
   "metadata": {
    "deletable": true,
    "editable": true
   },
   "source": [
    "## 3.1 Select Data\n",
    "### Outputs:\n",
    "- Rationale for Inclusion/Exclusion\n"
   ]
  },
  {
   "cell_type": "code",
   "execution_count": null,
   "metadata": {
    "collapsed": false,
    "deletable": true,
    "editable": true
   },
   "outputs": [],
   "source": []
  },
  {
   "cell_type": "markdown",
   "metadata": {
    "deletable": true,
    "editable": true
   },
   "source": [
    "\n",
    "## 3.2 Clean Data\n",
    "### Outputs:\n",
    "- Data Cleaning Report\n"
   ]
  },
  {
   "cell_type": "code",
   "execution_count": 175,
   "metadata": {
    "collapsed": false,
    "deletable": true,
    "editable": true
   },
   "outputs": [],
   "source": [
    "train=train[train['LotArea']<55000]\n",
    "train=train[train['LotFrontage']<300]\n",
    "train=train[train['MasVnrArea']<1200]\n",
    "train=train[train['MasVnrArea']<1200]\n",
    "train=train[train['BsmtFinSF1']<5000]\n",
    "train=train[train['BsmtFinSF2']<1400]\n",
    "train=train[train['TotalBsmtSF']<3500]\n",
    "train['Electrical'].dropna(inplace=True)\n",
    "train=train[train['1stFlrSF']!=0]\n",
    "train=train[train['1stFlrSF']<4000]\n",
    "train=train[train['GrLivArea']!=0]\n",
    "train=train[train['WoodDeckSF']<750]\n",
    "train=train[train['OpenPorchSF']<400]\n",
    "train=train[train['EnclosedPorch']<400]\n"
   ]
  },
  {
   "cell_type": "code",
   "execution_count": 176,
   "metadata": {
    "collapsed": true
   },
   "outputs": [],
   "source": [
    "dataset=pd.concat([train,test],keys=['train','test'])"
   ]
  },
  {
   "cell_type": "code",
   "execution_count": 177,
   "metadata": {
    "collapsed": false
   },
   "outputs": [],
   "source": [
    "del dataset['Utilities']\n",
    "del dataset['TotalBsmtSF']\n",
    "del dataset['TotRmsAbvGrd']\n",
    "del dataset['GarageYrBlt']\n",
    "del dataset['GarageCars']\n",
    "\n",
    "\n",
    "dataset['LotFrontage'].fillna(dataset['LotFrontage'].mean(),inplace=True)\n",
    "dataset['Alley'].fillna('XX',inplace=True)\n",
    "dataset['MasVnrArea'].fillna(dataset['MasVnrArea'].mean(),inplace=True)\n",
    "dataset['BsmtQual'].fillna('XX',inplace=True)\n",
    "dataset['BsmtCond'].fillna('XX',inplace=True)\n",
    "dataset['BsmtExposure'].fillna('XX',inplace=True)\n",
    "dataset['BsmtFinSF1'].fillna(0,inplace=True)\n",
    "dataset['BsmtFinSF2'].fillna(0,inplace=True)\n",
    "dataset['BsmtUnfSF'].fillna(0,inplace=True)\n",
    "dataset['BsmtFinType1'].fillna('XX',inplace=True)\n",
    "dataset['BsmtFinType2'].fillna('XX',inplace=True)\n",
    "\n",
    "dataset['BsmtFullBath'].fillna(dataset['BsmtFullBath'].mean(),inplace=True)\n",
    "dataset['BsmtHalfBath'].fillna(dataset['BsmtHalfBath'].mean(),inplace=True)\n",
    "dataset['MiscFeature'].fillna('XX',inplace=True)\n",
    "dataset['MiscVal'].fillna(0,inplace=True)\n",
    "dataset['FireplaceQu'].fillna('XX',inplace=True)\n",
    "dataset['GarageType'].fillna('XX',inplace=True)\n",
    "dataset['GarageFinish'].fillna('XX',inplace=True)\n",
    "dataset['GarageQual'].fillna('XX',inplace=True)\n",
    "dataset['GarageCond'].fillna('XX',inplace=True)\n",
    "dataset['GarageArea'].fillna(0,inplace=True)\n",
    "dataset['PoolQC'].fillna('XX',inplace=True)\n",
    "dataset['Fence'].fillna('XX',inplace=True)"
   ]
  },
  {
   "cell_type": "code",
   "execution_count": 178,
   "metadata": {
    "collapsed": false,
    "deletable": true,
    "editable": true
   },
   "outputs": [],
   "source": [
    "dataset.loc['train'].to_csv('../data/train_cleaned.csv')\n",
    "dataset.loc['test'].to_csv('../data/test_cleaned.csv')"
   ]
  },
  {
   "cell_type": "code",
   "execution_count": 187,
   "metadata": {
    "collapsed": false,
    "deletable": true,
    "editable": true
   },
   "outputs": [
    {
     "data": {
      "text/html": [
       "<div>\n",
       "<table border=\"1\" class=\"dataframe\">\n",
       "  <thead>\n",
       "    <tr style=\"text-align: right;\">\n",
       "      <th></th>\n",
       "      <th></th>\n",
       "      <th>1stFlrSF</th>\n",
       "      <th>2ndFlrSF</th>\n",
       "      <th>3SsnPorch</th>\n",
       "      <th>BedroomAbvGr</th>\n",
       "      <th>BsmtFinSF1</th>\n",
       "      <th>BsmtFinSF2</th>\n",
       "      <th>BsmtFullBath</th>\n",
       "      <th>BsmtHalfBath</th>\n",
       "      <th>BsmtUnfSF</th>\n",
       "      <th>EnclosedPorch</th>\n",
       "      <th>...</th>\n",
       "      <th>SaleType_CWD</th>\n",
       "      <th>SaleType_Con</th>\n",
       "      <th>SaleType_ConLD</th>\n",
       "      <th>SaleType_ConLI</th>\n",
       "      <th>SaleType_ConLw</th>\n",
       "      <th>SaleType_New</th>\n",
       "      <th>SaleType_Oth</th>\n",
       "      <th>SaleType_WD</th>\n",
       "      <th>Street_Grvl</th>\n",
       "      <th>Street_Pave</th>\n",
       "    </tr>\n",
       "  </thead>\n",
       "  <tbody>\n",
       "  </tbody>\n",
       "</table>\n",
       "<p>0 rows × 308 columns</p>\n",
       "</div>"
      ],
      "text/plain": [
       "Empty DataFrame\n",
       "Columns: [1stFlrSF, 2ndFlrSF, 3SsnPorch, BedroomAbvGr, BsmtFinSF1, BsmtFinSF2, BsmtFullBath, BsmtHalfBath, BsmtUnfSF, EnclosedPorch, Fireplaces, FullBath, GarageArea, GrLivArea, HalfBath, Id, KitchenAbvGr, LotArea, LotFrontage, LowQualFinSF, MasVnrArea, MiscVal, MoSold, OpenPorchSF, OverallCond, OverallQual, PoolArea, SalePrice, ScreenPorch, WoodDeckSF, YearBuilt, YearRemodAdd, YrSold, Alley_Grvl, Alley_Pave, Alley_XX, BldgType_1Fam, BldgType_2fmCon, BldgType_Duplex, BldgType_Twnhs, BldgType_TwnhsE, BsmtCond_Fa, BsmtCond_Gd, BsmtCond_Po, BsmtCond_TA, BsmtCond_XX, BsmtExposure_Av, BsmtExposure_Gd, BsmtExposure_Mn, BsmtExposure_No, BsmtExposure_XX, BsmtFinType1_ALQ, BsmtFinType1_BLQ, BsmtFinType1_GLQ, BsmtFinType1_LwQ, BsmtFinType1_Rec, BsmtFinType1_Unf, BsmtFinType1_XX, BsmtFinType2_ALQ, BsmtFinType2_BLQ, BsmtFinType2_GLQ, BsmtFinType2_LwQ, BsmtFinType2_Rec, BsmtFinType2_Unf, BsmtFinType2_XX, BsmtQual_Ex, BsmtQual_Fa, BsmtQual_Gd, BsmtQual_TA, BsmtQual_XX, CentralAir_N, CentralAir_Y, Condition1_Artery, Condition1_Feedr, Condition1_Norm, Condition1_PosA, Condition1_PosN, Condition1_RRAe, Condition1_RRAn, Condition1_RRNe, Condition1_RRNn, Condition2_Artery, Condition2_Feedr, Condition2_Norm, Condition2_PosA, Condition2_PosN, Condition2_RRNn, Electrical_FuseA, Electrical_FuseF, Electrical_FuseP, Electrical_Mix, Electrical_SBrkr, ExterCond_Ex, ExterCond_Fa, ExterCond_Gd, ExterCond_Po, ExterCond_TA, ExterQual_Ex, ExterQual_Fa, ExterQual_Gd, ...]\n",
       "Index: []\n",
       "\n",
       "[0 rows x 308 columns]"
      ]
     },
     "execution_count": 187,
     "metadata": {},
     "output_type": "execute_result"
    }
   ],
   "source": []
  },
  {
   "cell_type": "markdown",
   "metadata": {
    "deletable": true,
    "editable": true
   },
   "source": [
    "\n",
    "## 3.3 Construct Data\n",
    "### Outputs:\n",
    "- Derived Attributes\n",
    "- Generated Records\n",
    "\n",
    "## 3.4 Integrate Data\n",
    "### Outputs:\n",
    "\n",
    "- Merged Data\n",
    "\n"
   ]
  },
  {
   "cell_type": "markdown",
   "metadata": {
    "deletable": true,
    "editable": true
   },
   "source": [
    "## 3.5 Format Data\n",
    "### Outputs:\n",
    "\n",
    "- Reformatted Data\n",
    "- Dataset\n",
    "- Dataset Description"
   ]
  },
  {
   "cell_type": "code",
   "execution_count": 186,
   "metadata": {
    "collapsed": false,
    "deletable": true,
    "editable": true
   },
   "outputs": [
    {
     "name": "stderr",
     "output_type": "stream",
     "text": [
      "/Library/Frameworks/Python.framework/Versions/3.4/lib/python3.4/site-packages/sklearn/utils/validation.py:429: DataConversionWarning: Data with input dtype int64 was converted to float64 by the scale function.\n",
      "  warnings.warn(msg, _DataConversionWarning)\n"
     ]
    }
   ],
   "source": [
    "dataset['MSSubClass'] = dataset['MSSubClass'].apply(str)\n",
    "\n",
    "Numeric_columns=['LotFrontage',\n",
    "                'LotArea',\n",
    "                'OverallQual',\n",
    "                'OverallCond',\n",
    "                'YearBuilt',\n",
    "                'YearRemodAdd',\n",
    "                'MasVnrArea',\n",
    "                'BsmtFinSF1',\n",
    "                'BsmtFinSF2',\n",
    "                'BsmtUnfSF',\n",
    "                '1stFlrSF',\n",
    "                '2ndFlrSF',\n",
    "                'LowQualFinSF',\n",
    "                'GrLivArea',\n",
    "                'BsmtFullBath',\n",
    "                'BsmtHalfBath',\n",
    "                'FullBath',\n",
    "                'HalfBath',\n",
    "                'BedroomAbvGr',\n",
    "                'KitchenAbvGr',\n",
    "                'Fireplaces',\n",
    "                'GarageArea',\n",
    "                'WoodDeckSF',\n",
    "                'OpenPorchSF',\n",
    "                'EnclosedPorch',\n",
    "                '3SsnPorch',\n",
    "                'ScreenPorch',\n",
    "                'PoolArea',\n",
    "                'MiscVal',\n",
    "                'MoSold',\n",
    "                'YrSold']\n",
    "for i in Numeric_columns:\n",
    "    dataset[i]=preprocessing.scale(dataset[i])\n",
    "    \n",
    "dataset=pd.get_dummies(dataset)\n",
    "    \n",
    "train_dummied=dataset.loc['train']\n",
    "test_dummied=dataset.loc['test']\n",
    "\n",
    "train_dummied=train_dummied.set_index('Id')\n",
    "test_dummied=test_dummied.set_index('Id')\n",
    "\n",
    "train_dummied.to_csv('../data/train_dummied.csv')\n",
    "test_dummied.to_csv('../data/test_dummied.csv')\n",
    "#correlation_matrix(dataset_dummied)"
   ]
  },
  {
   "cell_type": "code",
   "execution_count": null,
   "metadata": {
    "collapsed": false,
    "scrolled": true
   },
   "outputs": [],
   "source": []
  },
  {
   "cell_type": "code",
   "execution_count": null,
   "metadata": {
    "collapsed": false
   },
   "outputs": [],
   "source": []
  }
 ],
 "metadata": {
  "kernelspec": {
   "display_name": "Python 3",
   "language": "python",
   "name": "python3"
  }
 },
 "nbformat": 4,
 "nbformat_minor": 2
}
