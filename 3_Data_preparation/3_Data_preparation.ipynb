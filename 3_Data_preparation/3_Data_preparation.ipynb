{
 "cells": [
  {
   "cell_type": "markdown",
   "metadata": {
    "deletable": true,
    "editable": true
   },
   "source": [
    "# 3. Data preparation\n",
    "## 3.1 Select Data\n",
    "### Outputs:\n",
    "- Rationale for Inclusion/Exclusion\n",
    "\n",
    "## 3.2 Clean Data\n",
    "### Outputs:\n",
    "- Data Cleaning Report\n",
    "\n",
    "## 3.3 Construct Data\n",
    "### Outputs:\n",
    "- Derived Attributes\n",
    "- Generated Records\n",
    "\n",
    "## 3.4 Integrate Data\n",
    "### Outputs:\n",
    "\n",
    "- Merged Data\n",
    "\n",
    "## 3.5 Format Data\n",
    "### Outputs:\n",
    "\n",
    "- Reformatted Data\n",
    "- Dataset\n",
    "- Dataset Description"
   ]
  }
 ],
 "metadata": {
  "kernelspec": {
   "display_name": "Python 3",
   "language": "python",
   "name": "python3"
  },
  "language_info": {
   "codemirror_mode": {
    "name": "ipython",
    "version": 3
   },
   "file_extension": ".py",
   "mimetype": "text/x-python",
   "name": "python",
   "nbconvert_exporter": "python",
   "pygments_lexer": "ipython3",
   "version": "3.4.3"
  }
 },
 "nbformat": 4,
 "nbformat_minor": 2
}
