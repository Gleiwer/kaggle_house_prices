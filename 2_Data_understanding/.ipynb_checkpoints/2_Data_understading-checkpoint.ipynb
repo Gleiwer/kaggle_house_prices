{
 "cells": [
  {
   "cell_type": "markdown",
   "metadata": {
    "deletable": true,
    "editable": true
   },
   "source": [
    "# 2. Data Understanding\n",
    "## 2.1 Collect Initial Data\n",
    "### Outputs:\n",
    "- Initial Data Collection Report\n",
    "\n"
   ]
  },
  {
   "cell_type": "markdown",
   "metadata": {},
   "source": [
    "## 2.2 Describe Data\n",
    "### Outputs:\n",
    "- Data Description Report \n",
    "\n",
    "\n"
   ]
  },
  {
   "cell_type": "markdown",
   "metadata": {},
   "source": [
    "## 2.3 Explore Data\n",
    "### Outputs:\n",
    "- Data Exploration Report\n",
    "\n",
    "## 2.4 Verify Data Quality\n",
    "### Outputs:\n",
    "\n",
    "- Data Quality Report"
   ]
  }
 ],
 "metadata": {
  "kernelspec": {
   "display_name": "Python 3",
   "language": "python",
   "name": "python3"
  },
  "language_info": {
   "codemirror_mode": {
    "name": "ipython",
    "version": 3
   },
   "file_extension": ".py",
   "mimetype": "text/x-python",
   "name": "python",
   "nbconvert_exporter": "python",
   "pygments_lexer": "ipython3",
   "version": "3.4.3"
  }
 },
 "nbformat": 4,
 "nbformat_minor": 2
}
