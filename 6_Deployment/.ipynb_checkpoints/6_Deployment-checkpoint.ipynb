{
 "cells": [
  {
   "cell_type": "markdown",
   "metadata": {
    "deletable": true,
    "editable": true
   },
   "source": [
    "# 6. Modeling\n",
    "## 6.1 Plan Deployment\n",
    "### Outputs:\n",
    "- Deployment Plan\n",
    "\n",
    "## 6.2 Plan Monitoring and Maintenance\n",
    "### Outputs:\n",
    "- Monitoring and Maintenance Plan\n",
    "\n",
    "## 4.3 Produce Final Report\n",
    "### Outputs:\n",
    "- Final Report\n",
    "- Final Presentation\n",
    "\n",
    "## 4.4 Review Project\n",
    "### Outputs:\n",
    "\n",
    "- Experience\n",
    "- Documentation"
   ]
  }
 ],
 "metadata": {
  "kernelspec": {
   "display_name": "Python 3",
   "language": "python",
   "name": "python3"
  },
  "language_info": {
   "codemirror_mode": {
    "name": "ipython",
    "version": 3
   },
   "file_extension": ".py",
   "mimetype": "text/x-python",
   "name": "python",
   "nbconvert_exporter": "python",
   "pygments_lexer": "ipython3",
   "version": "3.4.3"
  }
 },
 "nbformat": 4,
 "nbformat_minor": 2
}
