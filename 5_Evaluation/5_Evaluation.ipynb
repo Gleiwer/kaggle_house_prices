{
 "cells": [
  {
   "cell_type": "markdown",
   "metadata": {
    "deletable": true,
    "editable": true
   },
   "source": [
    "# 5. Evaluation\n",
    "## 5.1 Evaluate Results\n",
    "### Outputs:\n",
    "- Assessment of Data Mining Results w.r.t.\n",
    "- Business Success Criteria\n",
    "- Approved Models\n",
    "\n",
    "## 5.2 Review Process\n",
    "### Outputs:\n",
    "- Review of Process\n",
    "\n",
    "## 5.3 Determine Next Steps\n",
    "### Outputs:\n",
    "- List of Possible Actions Decision"
   ]
  }
 ],
 "metadata": {
  "kernelspec": {
   "display_name": "Python 3",
   "language": "python",
   "name": "python3"
  },
  "language_info": {
   "codemirror_mode": {
    "name": "ipython",
    "version": 3
   },
   "file_extension": ".py",
   "mimetype": "text/x-python",
   "name": "python",
   "nbconvert_exporter": "python",
   "pygments_lexer": "ipython3",
   "version": "3.4.3"
  }
 },
 "nbformat": 4,
 "nbformat_minor": 2
}
