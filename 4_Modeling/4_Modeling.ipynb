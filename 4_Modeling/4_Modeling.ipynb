{
 "cells": [
  {
   "cell_type": "markdown",
   "metadata": {
    "deletable": true,
    "editable": true
   },
   "source": [
    "# 4. Modeling\n",
    "## 4.1 Select Modeling Techniques\n",
    "### Outputs:\n",
    "- Modeling Technique\n",
    "- Modeling Assumptions\n",
    "\n"
   ]
  },
  {
   "cell_type": "code",
   "execution_count": 2,
   "metadata": {
    "collapsed": true,
    "deletable": true,
    "editable": true
   },
   "outputs": [],
   "source": [
    "from sklearn.linear_model import LogisticRegression\n",
    "import nltk\n",
    "import pandas as pd\n",
    "import math\n",
    "%matplotlib inline\n",
    "import matplotlib\n",
    "import matplotlib.pyplot as plt\n",
    "from matplotlib import gridspec\n",
    "\n",
    "from sklearn import datasets, linear_model\n",
    "import numpy as np\n",
    "from numbers import Number"
   ]
  },
  {
   "cell_type": "code",
   "execution_count": 3,
   "metadata": {
    "collapsed": false,
    "deletable": true,
    "editable": true
   },
   "outputs": [],
   "source": [
    "train_dataframe= pd.read_csv(\"../data/train_dummied.csv\")\n",
    "del train_dataframe['Unnamed: 0']\n",
    "train_dataframe.set_index('Id')\n",
    "y_train=np.array(train_dataframe['SalePrice'])\n",
    "del train_dataframe['SalePrice']\n",
    "x_train=np.array(train_dataframe)\n"
   ]
  },
  {
   "cell_type": "code",
   "execution_count": 5,
   "metadata": {
    "collapsed": false
   },
   "outputs": [
    {
     "data": {
      "text/plain": [
       "(array([[  1.00000000e+00,   6.00000000e+01,   6.50000000e+01, ...,\n",
       "           0.00000000e+00,   1.00000000e+00,   0.00000000e+00],\n",
       "        [  2.00000000e+00,   2.00000000e+01,   8.00000000e+01, ...,\n",
       "           0.00000000e+00,   1.00000000e+00,   0.00000000e+00],\n",
       "        [  3.00000000e+00,   6.00000000e+01,   6.80000000e+01, ...,\n",
       "           0.00000000e+00,   1.00000000e+00,   0.00000000e+00],\n",
       "        ..., \n",
       "        [  1.45800000e+03,   7.00000000e+01,   6.60000000e+01, ...,\n",
       "           0.00000000e+00,   1.00000000e+00,   0.00000000e+00],\n",
       "        [  1.45900000e+03,   2.00000000e+01,   6.80000000e+01, ...,\n",
       "           0.00000000e+00,   1.00000000e+00,   0.00000000e+00],\n",
       "        [  1.46000000e+03,   2.00000000e+01,   7.50000000e+01, ...,\n",
       "           0.00000000e+00,   1.00000000e+00,   0.00000000e+00]]),\n",
       " array([208500, 181500, 223500, ..., 266500, 142125, 147500]))"
      ]
     },
     "execution_count": 5,
     "metadata": {},
     "output_type": "execute_result"
    }
   ],
   "source": []
  },
  {
   "cell_type": "code",
   "execution_count": 21,
   "metadata": {
    "collapsed": false,
    "deletable": true,
    "editable": true
   },
   "outputs": [],
   "source": []
  },
  {
   "cell_type": "markdown",
   "metadata": {
    "deletable": true,
    "editable": true
   },
   "source": [
    "## 4.2 Generate Test Design\n",
    "### Outputs:\n",
    "- Test Design\n",
    "\n",
    "## 4.3 Build Model\n",
    "### Outputs:\n",
    "- Parameter Settings\n",
    "- Models\n",
    "- Model Descriptions\n",
    "\n",
    "## 4.4 Assess Model\n",
    "### Outputs:\n",
    "\n",
    "- Model Assessment\n",
    "- Revised Parameter\n",
    "- Settings"
   ]
  }
 ],
 "metadata": {
  "kernelspec": {
   "display_name": "Python 3",
   "language": "python",
   "name": "python3"
  },
  "language_info": {
   "codemirror_mode": {
    "name": "ipython",
    "version": 3
   },
   "file_extension": ".py",
   "mimetype": "text/x-python",
   "name": "python",
   "nbconvert_exporter": "python",
   "pygments_lexer": "ipython3",
   "version": "3.4.3"
  }
 },
 "nbformat": 4,
 "nbformat_minor": 2
}
