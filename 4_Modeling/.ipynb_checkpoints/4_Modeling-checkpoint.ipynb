{
 "cells": [
  {
   "cell_type": "markdown",
   "metadata": {
    "deletable": true,
    "editable": true
   },
   "source": [
    "# 4. Modeling\n",
    "## 4.1 Select Modeling Techniques\n",
    "### Outputs:\n",
    "- Modeling Technique\n",
    "- Modeling Assumptions\n",
    "\n"
   ]
  },
  {
   "cell_type": "code",
   "execution_count": 246,
   "metadata": {
    "collapsed": true,
    "deletable": true,
    "editable": true
   },
   "outputs": [],
   "source": [
    "from sklearn.linear_model import LogisticRegression\n",
    "import nltk\n",
    "import pandas as pd\n",
    "import math\n",
    "%matplotlib inline\n",
    "import matplotlib\n",
    "import matplotlib.pyplot as plt\n",
    "from matplotlib import gridspec\n",
    "\n",
    "from sklearn import datasets, linear_model\n",
    "import numpy as np\n",
    "from numbers import Number\n",
    "\n",
    "from sklearn.model_selection import train_test_split, cross_val_score\n",
    "import sklearn.metrics as metrics\n",
    "\n",
    "from sklearn import tree\n",
    "from sklearn.ensemble import GradientBoostingRegressor, VotingClassifier\n",
    "\n",
    "import warnings\n",
    "warnings.filterwarnings('ignore')\n"
   ]
  },
  {
   "cell_type": "code",
   "execution_count": 185,
   "metadata": {
    "collapsed": false
   },
   "outputs": [],
   "source": [
    "train_dataframe= pd.read_csv(\"../data/train_dummied.csv\")\n",
    "train_dataframe=train_dataframe.set_index('Id')\n",
    "y=np.array(train_dataframe['SalePrice'])\n",
    "del train_dataframe['SalePrice']\n",
    "X=np.array(train_dataframe)\n",
    "\n",
    "\n",
    "X_train, X_test, y_train, y_test = train_test_split(X, y, test_size=0.20)"
   ]
  },
  {
   "cell_type": "markdown",
   "metadata": {},
   "source": [
    "### Logistic Regression"
   ]
  },
  {
   "cell_type": "code",
   "execution_count": 186,
   "metadata": {
    "collapsed": false,
    "deletable": true,
    "editable": true
   },
   "outputs": [],
   "source": [
    "lr = LogisticRegression(C=1000.0, random_state=0)\n",
    "lr.fit(X_train, y_train)\n",
    "y_pred_lr=lr.predict(X_test)"
   ]
  },
  {
   "cell_type": "code",
   "execution_count": 187,
   "metadata": {
    "collapsed": false,
    "deletable": true,
    "editable": true
   },
   "outputs": [
    {
     "name": "stdout",
     "output_type": "stream",
     "text": [
      "Mean Squared Error: 61993.8155762\n",
      "Accuracy: 0.69857 (+/- 0.11)\n"
     ]
    }
   ],
   "source": [
    "print ('Mean Squared Error:',np.sqrt(metrics.mean_squared_error(y_pred_lr,y_test)))\n",
    "scores = cross_val_score(clf, X_train, y_train, cv=5)\n",
    "print(\"Accuracy: %0.5f (+/- %0.2f)\" % (scores.mean(), scores.std() * 2))"
   ]
  },
  {
   "cell_type": "markdown",
   "metadata": {},
   "source": [
    "###  Decision Tree Regression "
   ]
  },
  {
   "cell_type": "code",
   "execution_count": 227,
   "metadata": {
    "collapsed": false
   },
   "outputs": [],
   "source": [
    "clf = tree.DecisionTreeRegressor()\n",
    "clf = clf.fit(X_train, y_train)\n",
    "y_pred_clf=clf.predict(X_test)"
   ]
  },
  {
   "cell_type": "code",
   "execution_count": 228,
   "metadata": {
    "collapsed": false
   },
   "outputs": [
    {
     "name": "stdout",
     "output_type": "stream",
     "text": [
      "Mean Squared Error: 38301.7035845\n",
      "Accuracy: 0.69112 (+/- 0.08)\n"
     ]
    }
   ],
   "source": [
    "print ('Mean Squared Error:',np.sqrt(metrics.mean_squared_error(y_pred_clf,y_test)))\n",
    "scores = cross_val_score(clf, X_train, y_train, cv=5)\n",
    "print(\"Accuracy: %0.5f (+/- %0.2f)\" % (scores.mean(), scores.std() * 2))"
   ]
  },
  {
   "cell_type": "markdown",
   "metadata": {},
   "source": [
    "## Ridge Linear Regression"
   ]
  },
  {
   "cell_type": "code",
   "execution_count": 242,
   "metadata": {
    "collapsed": false
   },
   "outputs": [],
   "source": [
    "ridge = linear_model.Ridge (alpha = .5)\n",
    "ridge.fit (X_train,y_train)\n",
    "y_pred_ridge = ridge.predict(X_test)"
   ]
  },
  {
   "cell_type": "code",
   "execution_count": 243,
   "metadata": {
    "collapsed": false
   },
   "outputs": [
    {
     "name": "stdout",
     "output_type": "stream",
     "text": [
      "Mean Squared Error: 26088.2154526\n",
      "Accuracy: 0.89496 (+/- 0.02)\n"
     ]
    }
   ],
   "source": [
    "print ('Mean Squared Error:',np.sqrt(metrics.mean_squared_error(y_pred_ridge,y_test)))\n",
    "scores = cross_val_score(ridge, X_train, y_train, cv=5)\n",
    "print(\"Accuracy: %0.5f (+/- %0.2f)\" % (scores.mean(), scores.std() * 2))"
   ]
  },
  {
   "cell_type": "markdown",
   "metadata": {},
   "source": [
    "## Lasso Linear Regression"
   ]
  },
  {
   "cell_type": "code",
   "execution_count": 235,
   "metadata": {
    "collapsed": true
   },
   "outputs": [],
   "source": [
    "lasso = linear_model.Lasso(alpha = 1.5)\n",
    "lasso = lasso.fit(X_train,y_train)\n",
    "y_pred_lasso = lasso.predict(X_test)"
   ]
  },
  {
   "cell_type": "code",
   "execution_count": 234,
   "metadata": {
    "collapsed": false
   },
   "outputs": [
    {
     "name": "stdout",
     "output_type": "stream",
     "text": [
      "Mean Squared Error: 27256.7193366\n",
      "Accuracy: 0.88210 (+/- 0.04)\n"
     ]
    }
   ],
   "source": [
    "print ('Mean Squared Error:',np.sqrt(metrics.mean_squared_error(y_pred_lasso,y_test)))\n",
    "scores = cross_val_score(lasso, X_train, y_train, cv=5)\n",
    "print(\"Accuracy: %0.5f (+/- %0.2f)\" % (scores.mean(), scores.std() * 2))"
   ]
  },
  {
   "cell_type": "markdown",
   "metadata": {},
   "source": [
    "## Elastic Net"
   ]
  },
  {
   "cell_type": "code",
   "execution_count": 221,
   "metadata": {
    "collapsed": false
   },
   "outputs": [],
   "source": [
    "ENST = linear_model.ElasticNetCV(alphas=[0.0001, 0.0005, 0.001, 0.01, 0.1, 1, 10], \n",
    "                                    l1_ratio=[.01, .1, .5, .9, .99], \n",
    "                                    max_iter=5000)\n",
    "ENST = ENST.fit(X_train, y_train)\n",
    "y_pred_enst = ENST.predict(X_test)"
   ]
  },
  {
   "cell_type": "code",
   "execution_count": 222,
   "metadata": {
    "collapsed": false
   },
   "outputs": [
    {
     "name": "stdout",
     "output_type": "stream",
     "text": [
      "Mean Squared Error: 25534.9778301\n",
      "Accuracy: 0.90257 (+/- 0.02)\n"
     ]
    }
   ],
   "source": [
    "print ('Mean Squared Error:',np.sqrt(metrics.mean_squared_error(y_pred_enst,y_test)))\n",
    "scores = cross_val_score(ENST, X_train, y_train, cv=5)\n",
    "print(\"Accuracy: %0.5f (+/- %0.2f)\" % (scores.mean(), scores.std() * 2))"
   ]
  },
  {
   "cell_type": "markdown",
   "metadata": {},
   "source": [
    "## Gradient Tree Boosting"
   ]
  },
  {
   "cell_type": "code",
   "execution_count": 237,
   "metadata": {
    "collapsed": true
   },
   "outputs": [],
   "source": [
    "gtb = GradientBoostingRegressor(n_estimators=100, \n",
    "                                learning_rate=0.1,\n",
    "                                max_depth=1,\n",
    "                                random_state=0, \n",
    "                                loss='ls')\n",
    "gtb = gtb.fit(X_train,y_train)\n",
    "y_pred_gtb = gtb.predict(X_test)"
   ]
  },
  {
   "cell_type": "code",
   "execution_count": 238,
   "metadata": {
    "collapsed": false
   },
   "outputs": [
    {
     "name": "stdout",
     "output_type": "stream",
     "text": [
      "Mean Squared Error: 27911.3402199\n",
      "Accuracy: 0.85550 (+/- 0.05)\n"
     ]
    }
   ],
   "source": [
    "print ('Mean Squared Error:',np.sqrt(metrics.mean_squared_error(y_pred_gtb,y_test)))\n",
    "scores = cross_val_score(gtb, X_train, y_train, cv=5)\n",
    "print(\"Accuracy: %0.5f (+/- %0.2f)\" % (scores.mean(), scores.std() * 2))"
   ]
  },
  {
   "cell_type": "markdown",
   "metadata": {},
   "source": [
    "## Voting Classifier"
   ]
  },
  {
   "cell_type": "code",
   "execution_count": 251,
   "metadata": {
    "collapsed": true
   },
   "outputs": [],
   "source": [
    "results=pd.DataFrame({'Ridge':y_pred_ridge,\n",
    "                     'Lasso':y_pred_lasso,\n",
    "                     'ENST':y_pred_enst,\n",
    "                     'test':y_test})"
   ]
  },
  {
   "cell_type": "code",
   "execution_count": 252,
   "metadata": {
    "collapsed": false
   },
   "outputs": [
    {
     "data": {
      "text/plain": [
       "LinearRegression(copy_X=True, fit_intercept=True, n_jobs=1, normalize=False)"
      ]
     },
     "execution_count": 252,
     "metadata": {},
     "output_type": "execute_result"
    }
   ],
   "source": [
    "stacker= linear_model.LinearRegression()\n",
    "stacker.fit(results[['Ridge', 'Lasso', 'ENST']], results['test'])"
   ]
  },
  {
   "cell_type": "code",
   "execution_count": 254,
   "metadata": {
    "collapsed": false
   },
   "outputs": [
    {
     "name": "stdout",
     "output_type": "stream",
     "text": [
      "Accuracy: 0.91873 (+/- 0.07)\n"
     ]
    }
   ],
   "source": [
    "scores = cross_val_score(stacker, results[['Ridge', 'Lasso', 'ENST']], results['test'], cv=5)\n",
    "print(\"Accuracy: %0.5f (+/- %0.2f)\" % (scores.mean(), scores.std() * 2))"
   ]
  },
  {
   "cell_type": "code",
   "execution_count": 256,
   "metadata": {
    "collapsed": false
   },
   "outputs": [
    {
     "data": {
      "text/html": [
       "<div>\n",
       "<table border=\"1\" class=\"dataframe\">\n",
       "  <thead>\n",
       "    <tr style=\"text-align: right;\">\n",
       "      <th></th>\n",
       "      <th>ENST</th>\n",
       "      <th>Lasso</th>\n",
       "      <th>Ridge</th>\n",
       "      <th>test</th>\n",
       "      <th>stacked</th>\n",
       "    </tr>\n",
       "  </thead>\n",
       "  <tbody>\n",
       "    <tr>\n",
       "      <th>0</th>\n",
       "      <td>68995.677686</td>\n",
       "      <td>76628.827971</td>\n",
       "      <td>73105.452405</td>\n",
       "      <td>55000</td>\n",
       "      <td>73151.828180</td>\n",
       "    </tr>\n",
       "    <tr>\n",
       "      <th>1</th>\n",
       "      <td>159820.261387</td>\n",
       "      <td>164483.354949</td>\n",
       "      <td>163652.189950</td>\n",
       "      <td>158000</td>\n",
       "      <td>161229.272736</td>\n",
       "    </tr>\n",
       "    <tr>\n",
       "      <th>2</th>\n",
       "      <td>80367.085935</td>\n",
       "      <td>105099.914877</td>\n",
       "      <td>98498.865429</td>\n",
       "      <td>40000</td>\n",
       "      <td>90614.472417</td>\n",
       "    </tr>\n",
       "    <tr>\n",
       "      <th>3</th>\n",
       "      <td>247087.374991</td>\n",
       "      <td>212428.412583</td>\n",
       "      <td>223903.122387</td>\n",
       "      <td>197000</td>\n",
       "      <td>235163.121582</td>\n",
       "    </tr>\n",
       "    <tr>\n",
       "      <th>4</th>\n",
       "      <td>231148.298828</td>\n",
       "      <td>230851.912703</td>\n",
       "      <td>231006.771087</td>\n",
       "      <td>212900</td>\n",
       "      <td>227697.525492</td>\n",
       "    </tr>\n",
       "    <tr>\n",
       "      <th>5</th>\n",
       "      <td>114401.590909</td>\n",
       "      <td>123662.353000</td>\n",
       "      <td>133484.068351</td>\n",
       "      <td>120500</td>\n",
       "      <td>131652.929778</td>\n",
       "    </tr>\n",
       "    <tr>\n",
       "      <th>6</th>\n",
       "      <td>93204.773168</td>\n",
       "      <td>88571.590258</td>\n",
       "      <td>90184.115893</td>\n",
       "      <td>95000</td>\n",
       "      <td>94701.235009</td>\n",
       "    </tr>\n",
       "    <tr>\n",
       "      <th>7</th>\n",
       "      <td>197384.915682</td>\n",
       "      <td>210625.423422</td>\n",
       "      <td>210776.816863</td>\n",
       "      <td>176000</td>\n",
       "      <td>203156.240088</td>\n",
       "    </tr>\n",
       "    <tr>\n",
       "      <th>8</th>\n",
       "      <td>140668.196396</td>\n",
       "      <td>159916.986399</td>\n",
       "      <td>152958.953381</td>\n",
       "      <td>153337</td>\n",
       "      <td>144806.745442</td>\n",
       "    </tr>\n",
       "    <tr>\n",
       "      <th>9</th>\n",
       "      <td>231300.864739</td>\n",
       "      <td>227438.903754</td>\n",
       "      <td>227660.812684</td>\n",
       "      <td>224000</td>\n",
       "      <td>225864.748899</td>\n",
       "    </tr>\n",
       "    <tr>\n",
       "      <th>10</th>\n",
       "      <td>152491.080864</td>\n",
       "      <td>148082.720189</td>\n",
       "      <td>144455.531820</td>\n",
       "      <td>145000</td>\n",
       "      <td>146044.321375</td>\n",
       "    </tr>\n",
       "    <tr>\n",
       "      <th>11</th>\n",
       "      <td>282689.206942</td>\n",
       "      <td>292475.604271</td>\n",
       "      <td>288477.809311</td>\n",
       "      <td>235000</td>\n",
       "      <td>278442.015878</td>\n",
       "    </tr>\n",
       "    <tr>\n",
       "      <th>12</th>\n",
       "      <td>187370.051034</td>\n",
       "      <td>175763.163247</td>\n",
       "      <td>175078.680321</td>\n",
       "      <td>188500</td>\n",
       "      <td>178402.946425</td>\n",
       "    </tr>\n",
       "    <tr>\n",
       "      <th>13</th>\n",
       "      <td>293108.028929</td>\n",
       "      <td>302157.634320</td>\n",
       "      <td>300146.031978</td>\n",
       "      <td>280000</td>\n",
       "      <td>290090.459335</td>\n",
       "    </tr>\n",
       "    <tr>\n",
       "      <th>14</th>\n",
       "      <td>122214.456641</td>\n",
       "      <td>71415.221459</td>\n",
       "      <td>91168.979557</td>\n",
       "      <td>122000</td>\n",
       "      <td>115101.250398</td>\n",
       "    </tr>\n",
       "    <tr>\n",
       "      <th>15</th>\n",
       "      <td>202121.885147</td>\n",
       "      <td>203967.700598</td>\n",
       "      <td>203176.405705</td>\n",
       "      <td>195400</td>\n",
       "      <td>200144.246148</td>\n",
       "    </tr>\n",
       "    <tr>\n",
       "      <th>16</th>\n",
       "      <td>184419.856619</td>\n",
       "      <td>181277.452740</td>\n",
       "      <td>181841.649485</td>\n",
       "      <td>163990</td>\n",
       "      <td>181764.202603</td>\n",
       "    </tr>\n",
       "    <tr>\n",
       "      <th>17</th>\n",
       "      <td>213709.540623</td>\n",
       "      <td>215910.297593</td>\n",
       "      <td>215199.617264</td>\n",
       "      <td>192000</td>\n",
       "      <td>211525.511913</td>\n",
       "    </tr>\n",
       "    <tr>\n",
       "      <th>18</th>\n",
       "      <td>432358.780492</td>\n",
       "      <td>492240.621946</td>\n",
       "      <td>489373.159472</td>\n",
       "      <td>438780</td>\n",
       "      <td>451701.863886</td>\n",
       "    </tr>\n",
       "    <tr>\n",
       "      <th>19</th>\n",
       "      <td>382940.575011</td>\n",
       "      <td>390686.159456</td>\n",
       "      <td>391527.495635</td>\n",
       "      <td>380000</td>\n",
       "      <td>378345.855448</td>\n",
       "    </tr>\n",
       "    <tr>\n",
       "      <th>20</th>\n",
       "      <td>106119.009278</td>\n",
       "      <td>105337.145803</td>\n",
       "      <td>108365.423245</td>\n",
       "      <td>127000</td>\n",
       "      <td>110773.057156</td>\n",
       "    </tr>\n",
       "    <tr>\n",
       "      <th>21</th>\n",
       "      <td>71738.894250</td>\n",
       "      <td>81643.064758</td>\n",
       "      <td>79025.828897</td>\n",
       "      <td>135000</td>\n",
       "      <td>78040.717209</td>\n",
       "    </tr>\n",
       "    <tr>\n",
       "      <th>22</th>\n",
       "      <td>227803.688432</td>\n",
       "      <td>232685.716922</td>\n",
       "      <td>229429.392568</td>\n",
       "      <td>241500</td>\n",
       "      <td>223868.218779</td>\n",
       "    </tr>\n",
       "    <tr>\n",
       "      <th>23</th>\n",
       "      <td>286969.161829</td>\n",
       "      <td>287080.954995</td>\n",
       "      <td>287731.050412</td>\n",
       "      <td>324000</td>\n",
       "      <td>281888.844039</td>\n",
       "    </tr>\n",
       "    <tr>\n",
       "      <th>24</th>\n",
       "      <td>333440.601304</td>\n",
       "      <td>306243.356531</td>\n",
       "      <td>317231.906524</td>\n",
       "      <td>295000</td>\n",
       "      <td>321598.605090</td>\n",
       "    </tr>\n",
       "    <tr>\n",
       "      <th>25</th>\n",
       "      <td>119988.676614</td>\n",
       "      <td>116896.257529</td>\n",
       "      <td>117753.899204</td>\n",
       "      <td>119200</td>\n",
       "      <td>120427.602537</td>\n",
       "    </tr>\n",
       "    <tr>\n",
       "      <th>26</th>\n",
       "      <td>136862.596965</td>\n",
       "      <td>151453.181954</td>\n",
       "      <td>140806.765029</td>\n",
       "      <td>106000</td>\n",
       "      <td>134588.676161</td>\n",
       "    </tr>\n",
       "    <tr>\n",
       "      <th>27</th>\n",
       "      <td>274236.766845</td>\n",
       "      <td>269861.630006</td>\n",
       "      <td>271045.441914</td>\n",
       "      <td>269500</td>\n",
       "      <td>267685.685188</td>\n",
       "    </tr>\n",
       "    <tr>\n",
       "      <th>28</th>\n",
       "      <td>171035.675664</td>\n",
       "      <td>157762.798162</td>\n",
       "      <td>158855.374115</td>\n",
       "      <td>180000</td>\n",
       "      <td>163687.307454</td>\n",
       "    </tr>\n",
       "    <tr>\n",
       "      <th>29</th>\n",
       "      <td>389290.281120</td>\n",
       "      <td>397200.792820</td>\n",
       "      <td>396964.321491</td>\n",
       "      <td>402861</td>\n",
       "      <td>383379.882142</td>\n",
       "    </tr>\n",
       "    <tr>\n",
       "      <th>...</th>\n",
       "      <td>...</td>\n",
       "      <td>...</td>\n",
       "      <td>...</td>\n",
       "      <td>...</td>\n",
       "      <td>...</td>\n",
       "    </tr>\n",
       "    <tr>\n",
       "      <th>207</th>\n",
       "      <td>258224.640070</td>\n",
       "      <td>282367.517221</td>\n",
       "      <td>281730.019077</td>\n",
       "      <td>269790</td>\n",
       "      <td>266827.415548</td>\n",
       "    </tr>\n",
       "    <tr>\n",
       "      <th>208</th>\n",
       "      <td>136710.959235</td>\n",
       "      <td>143282.735037</td>\n",
       "      <td>142251.374113</td>\n",
       "      <td>136000</td>\n",
       "      <td>139994.031765</td>\n",
       "    </tr>\n",
       "    <tr>\n",
       "      <th>209</th>\n",
       "      <td>210792.897825</td>\n",
       "      <td>208203.385317</td>\n",
       "      <td>208415.912829</td>\n",
       "      <td>208500</td>\n",
       "      <td>206955.475056</td>\n",
       "    </tr>\n",
       "    <tr>\n",
       "      <th>210</th>\n",
       "      <td>420296.412538</td>\n",
       "      <td>440947.832307</td>\n",
       "      <td>440177.423783</td>\n",
       "      <td>426000</td>\n",
       "      <td>419819.758352</td>\n",
       "    </tr>\n",
       "    <tr>\n",
       "      <th>211</th>\n",
       "      <td>205502.720137</td>\n",
       "      <td>206847.857360</td>\n",
       "      <td>207044.938413</td>\n",
       "      <td>200000</td>\n",
       "      <td>204137.071010</td>\n",
       "    </tr>\n",
       "    <tr>\n",
       "      <th>212</th>\n",
       "      <td>121305.790895</td>\n",
       "      <td>125881.759628</td>\n",
       "      <td>126290.899502</td>\n",
       "      <td>132000</td>\n",
       "      <td>125622.624746</td>\n",
       "    </tr>\n",
       "    <tr>\n",
       "      <th>213</th>\n",
       "      <td>263112.660954</td>\n",
       "      <td>283864.835744</td>\n",
       "      <td>284263.955398</td>\n",
       "      <td>260000</td>\n",
       "      <td>270652.610785</td>\n",
       "    </tr>\n",
       "    <tr>\n",
       "      <th>214</th>\n",
       "      <td>149089.974970</td>\n",
       "      <td>125879.238359</td>\n",
       "      <td>128303.411528</td>\n",
       "      <td>155000</td>\n",
       "      <td>138374.550007</td>\n",
       "    </tr>\n",
       "    <tr>\n",
       "      <th>215</th>\n",
       "      <td>309800.707929</td>\n",
       "      <td>322910.802356</td>\n",
       "      <td>322627.295681</td>\n",
       "      <td>309000</td>\n",
       "      <td>310229.408813</td>\n",
       "    </tr>\n",
       "    <tr>\n",
       "      <th>216</th>\n",
       "      <td>168218.777061</td>\n",
       "      <td>161356.951601</td>\n",
       "      <td>159188.303528</td>\n",
       "      <td>153000</td>\n",
       "      <td>161230.182445</td>\n",
       "    </tr>\n",
       "    <tr>\n",
       "      <th>217</th>\n",
       "      <td>114409.113907</td>\n",
       "      <td>112586.102616</td>\n",
       "      <td>114832.611310</td>\n",
       "      <td>128000</td>\n",
       "      <td>117283.999252</td>\n",
       "    </tr>\n",
       "    <tr>\n",
       "      <th>218</th>\n",
       "      <td>228682.917033</td>\n",
       "      <td>232014.563238</td>\n",
       "      <td>231623.616056</td>\n",
       "      <td>225000</td>\n",
       "      <td>226846.415840</td>\n",
       "    </tr>\n",
       "    <tr>\n",
       "      <th>219</th>\n",
       "      <td>188681.248130</td>\n",
       "      <td>159598.927894</td>\n",
       "      <td>161112.837210</td>\n",
       "      <td>169000</td>\n",
       "      <td>171935.335345</td>\n",
       "    </tr>\n",
       "    <tr>\n",
       "      <th>220</th>\n",
       "      <td>215138.729533</td>\n",
       "      <td>219368.574621</td>\n",
       "      <td>219278.366816</td>\n",
       "      <td>194000</td>\n",
       "      <td>214715.639515</td>\n",
       "    </tr>\n",
       "    <tr>\n",
       "      <th>221</th>\n",
       "      <td>87642.876760</td>\n",
       "      <td>88817.864095</td>\n",
       "      <td>90257.408559</td>\n",
       "      <td>94500</td>\n",
       "      <td>92533.260978</td>\n",
       "    </tr>\n",
       "    <tr>\n",
       "      <th>222</th>\n",
       "      <td>132332.136617</td>\n",
       "      <td>143224.855422</td>\n",
       "      <td>141041.793162</td>\n",
       "      <td>136500</td>\n",
       "      <td>137069.396922</td>\n",
       "    </tr>\n",
       "    <tr>\n",
       "      <th>223</th>\n",
       "      <td>114647.975636</td>\n",
       "      <td>120180.471838</td>\n",
       "      <td>119334.366917</td>\n",
       "      <td>119000</td>\n",
       "      <td>118473.025874</td>\n",
       "    </tr>\n",
       "    <tr>\n",
       "      <th>224</th>\n",
       "      <td>70041.891056</td>\n",
       "      <td>69540.484043</td>\n",
       "      <td>67375.432529</td>\n",
       "      <td>96500</td>\n",
       "      <td>70912.473568</td>\n",
       "    </tr>\n",
       "    <tr>\n",
       "      <th>225</th>\n",
       "      <td>152911.065604</td>\n",
       "      <td>146008.771928</td>\n",
       "      <td>146535.355341</td>\n",
       "      <td>174000</td>\n",
       "      <td>149401.948458</td>\n",
       "    </tr>\n",
       "    <tr>\n",
       "      <th>226</th>\n",
       "      <td>292835.731019</td>\n",
       "      <td>294550.046350</td>\n",
       "      <td>292603.326803</td>\n",
       "      <td>275000</td>\n",
       "      <td>285681.681378</td>\n",
       "    </tr>\n",
       "    <tr>\n",
       "      <th>227</th>\n",
       "      <td>180667.830539</td>\n",
       "      <td>173267.138819</td>\n",
       "      <td>173962.879330</td>\n",
       "      <td>175500</td>\n",
       "      <td>175863.779697</td>\n",
       "    </tr>\n",
       "    <tr>\n",
       "      <th>228</th>\n",
       "      <td>201831.341863</td>\n",
       "      <td>161000.488007</td>\n",
       "      <td>175961.906521</td>\n",
       "      <td>135000</td>\n",
       "      <td>191979.175945</td>\n",
       "    </tr>\n",
       "    <tr>\n",
       "      <th>229</th>\n",
       "      <td>206586.707907</td>\n",
       "      <td>206532.724311</td>\n",
       "      <td>204985.888852</td>\n",
       "      <td>172500</td>\n",
       "      <td>202527.636184</td>\n",
       "    </tr>\n",
       "    <tr>\n",
       "      <th>230</th>\n",
       "      <td>189503.269730</td>\n",
       "      <td>185012.151530</td>\n",
       "      <td>186052.493862</td>\n",
       "      <td>196000</td>\n",
       "      <td>186358.024330</td>\n",
       "    </tr>\n",
       "    <tr>\n",
       "      <th>231</th>\n",
       "      <td>145930.573744</td>\n",
       "      <td>144201.773572</td>\n",
       "      <td>147113.910223</td>\n",
       "      <td>137500</td>\n",
       "      <td>148214.782672</td>\n",
       "    </tr>\n",
       "    <tr>\n",
       "      <th>232</th>\n",
       "      <td>106373.378705</td>\n",
       "      <td>113729.861330</td>\n",
       "      <td>114013.098365</td>\n",
       "      <td>112500</td>\n",
       "      <td>112794.219009</td>\n",
       "    </tr>\n",
       "    <tr>\n",
       "      <th>233</th>\n",
       "      <td>222681.762087</td>\n",
       "      <td>227239.967270</td>\n",
       "      <td>226069.945800</td>\n",
       "      <td>204000</td>\n",
       "      <td>220983.782643</td>\n",
       "    </tr>\n",
       "    <tr>\n",
       "      <th>234</th>\n",
       "      <td>90003.681696</td>\n",
       "      <td>87808.907097</td>\n",
       "      <td>89772.537720</td>\n",
       "      <td>108500</td>\n",
       "      <td>93409.782546</td>\n",
       "    </tr>\n",
       "    <tr>\n",
       "      <th>235</th>\n",
       "      <td>148738.623915</td>\n",
       "      <td>159305.492655</td>\n",
       "      <td>160372.841706</td>\n",
       "      <td>147000</td>\n",
       "      <td>156021.523665</td>\n",
       "    </tr>\n",
       "    <tr>\n",
       "      <th>236</th>\n",
       "      <td>158095.357532</td>\n",
       "      <td>158566.471863</td>\n",
       "      <td>157451.126502</td>\n",
       "      <td>157000</td>\n",
       "      <td>156868.097340</td>\n",
       "    </tr>\n",
       "  </tbody>\n",
       "</table>\n",
       "<p>237 rows × 5 columns</p>\n",
       "</div>"
      ],
      "text/plain": [
       "              ENST          Lasso          Ridge    test        stacked\n",
       "0     68995.677686   76628.827971   73105.452405   55000   73151.828180\n",
       "1    159820.261387  164483.354949  163652.189950  158000  161229.272736\n",
       "2     80367.085935  105099.914877   98498.865429   40000   90614.472417\n",
       "3    247087.374991  212428.412583  223903.122387  197000  235163.121582\n",
       "4    231148.298828  230851.912703  231006.771087  212900  227697.525492\n",
       "5    114401.590909  123662.353000  133484.068351  120500  131652.929778\n",
       "6     93204.773168   88571.590258   90184.115893   95000   94701.235009\n",
       "7    197384.915682  210625.423422  210776.816863  176000  203156.240088\n",
       "8    140668.196396  159916.986399  152958.953381  153337  144806.745442\n",
       "9    231300.864739  227438.903754  227660.812684  224000  225864.748899\n",
       "10   152491.080864  148082.720189  144455.531820  145000  146044.321375\n",
       "11   282689.206942  292475.604271  288477.809311  235000  278442.015878\n",
       "12   187370.051034  175763.163247  175078.680321  188500  178402.946425\n",
       "13   293108.028929  302157.634320  300146.031978  280000  290090.459335\n",
       "14   122214.456641   71415.221459   91168.979557  122000  115101.250398\n",
       "15   202121.885147  203967.700598  203176.405705  195400  200144.246148\n",
       "16   184419.856619  181277.452740  181841.649485  163990  181764.202603\n",
       "17   213709.540623  215910.297593  215199.617264  192000  211525.511913\n",
       "18   432358.780492  492240.621946  489373.159472  438780  451701.863886\n",
       "19   382940.575011  390686.159456  391527.495635  380000  378345.855448\n",
       "20   106119.009278  105337.145803  108365.423245  127000  110773.057156\n",
       "21    71738.894250   81643.064758   79025.828897  135000   78040.717209\n",
       "22   227803.688432  232685.716922  229429.392568  241500  223868.218779\n",
       "23   286969.161829  287080.954995  287731.050412  324000  281888.844039\n",
       "24   333440.601304  306243.356531  317231.906524  295000  321598.605090\n",
       "25   119988.676614  116896.257529  117753.899204  119200  120427.602537\n",
       "26   136862.596965  151453.181954  140806.765029  106000  134588.676161\n",
       "27   274236.766845  269861.630006  271045.441914  269500  267685.685188\n",
       "28   171035.675664  157762.798162  158855.374115  180000  163687.307454\n",
       "29   389290.281120  397200.792820  396964.321491  402861  383379.882142\n",
       "..             ...            ...            ...     ...            ...\n",
       "207  258224.640070  282367.517221  281730.019077  269790  266827.415548\n",
       "208  136710.959235  143282.735037  142251.374113  136000  139994.031765\n",
       "209  210792.897825  208203.385317  208415.912829  208500  206955.475056\n",
       "210  420296.412538  440947.832307  440177.423783  426000  419819.758352\n",
       "211  205502.720137  206847.857360  207044.938413  200000  204137.071010\n",
       "212  121305.790895  125881.759628  126290.899502  132000  125622.624746\n",
       "213  263112.660954  283864.835744  284263.955398  260000  270652.610785\n",
       "214  149089.974970  125879.238359  128303.411528  155000  138374.550007\n",
       "215  309800.707929  322910.802356  322627.295681  309000  310229.408813\n",
       "216  168218.777061  161356.951601  159188.303528  153000  161230.182445\n",
       "217  114409.113907  112586.102616  114832.611310  128000  117283.999252\n",
       "218  228682.917033  232014.563238  231623.616056  225000  226846.415840\n",
       "219  188681.248130  159598.927894  161112.837210  169000  171935.335345\n",
       "220  215138.729533  219368.574621  219278.366816  194000  214715.639515\n",
       "221   87642.876760   88817.864095   90257.408559   94500   92533.260978\n",
       "222  132332.136617  143224.855422  141041.793162  136500  137069.396922\n",
       "223  114647.975636  120180.471838  119334.366917  119000  118473.025874\n",
       "224   70041.891056   69540.484043   67375.432529   96500   70912.473568\n",
       "225  152911.065604  146008.771928  146535.355341  174000  149401.948458\n",
       "226  292835.731019  294550.046350  292603.326803  275000  285681.681378\n",
       "227  180667.830539  173267.138819  173962.879330  175500  175863.779697\n",
       "228  201831.341863  161000.488007  175961.906521  135000  191979.175945\n",
       "229  206586.707907  206532.724311  204985.888852  172500  202527.636184\n",
       "230  189503.269730  185012.151530  186052.493862  196000  186358.024330\n",
       "231  145930.573744  144201.773572  147113.910223  137500  148214.782672\n",
       "232  106373.378705  113729.861330  114013.098365  112500  112794.219009\n",
       "233  222681.762087  227239.967270  226069.945800  204000  220983.782643\n",
       "234   90003.681696   87808.907097   89772.537720  108500   93409.782546\n",
       "235  148738.623915  159305.492655  160372.841706  147000  156021.523665\n",
       "236  158095.357532  158566.471863  157451.126502  157000  156868.097340\n",
       "\n",
       "[237 rows x 5 columns]"
      ]
     },
     "execution_count": 256,
     "metadata": {},
     "output_type": "execute_result"
    }
   ],
   "source": [
    "results['stacked']=stacker.predict(results[['Ridge', 'Lasso', 'ENST']])\n",
    "results"
   ]
  },
  {
   "cell_type": "markdown",
   "metadata": {
    "deletable": true,
    "editable": true
   },
   "source": [
    "## 4.2 Generate Test Design\n",
    "### Outputs:\n",
    "- Test Design\n",
    "\n",
    "## 4.3 Build Model\n",
    "### Outputs:\n",
    "- Parameter Settings\n",
    "- Models\n",
    "- Model Descriptions\n",
    "\n",
    "## 4.4 Assess Model\n",
    "### Outputs:\n",
    "\n",
    "- Model Assessment\n",
    "- Revised Parameter\n",
    "- Settings"
   ]
  }
 ],
 "metadata": {
  "kernelspec": {
   "display_name": "Python 3",
   "language": "python",
   "name": "python3"
  },
  "language_info": {
   "codemirror_mode": {
    "name": "ipython",
    "version": 3
   },
   "file_extension": ".py",
   "mimetype": "text/x-python",
   "name": "python",
   "nbconvert_exporter": "python",
   "pygments_lexer": "ipython3",
   "version": "3.4.3"
  }
 },
 "nbformat": 4,
 "nbformat_minor": 2
}
