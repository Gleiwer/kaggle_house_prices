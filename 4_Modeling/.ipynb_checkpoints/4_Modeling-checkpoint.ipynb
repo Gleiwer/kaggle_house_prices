{
 "cells": [
  {
   "cell_type": "markdown",
   "metadata": {},
   "source": [
    "# 4. Modeling\n",
    "## 4.1 Select Modeling Techniques\n",
    "### Outputs:\n",
    "- Modeling Technique\n",
    "- Modeling Assumptions\n",
    "\n",
    "## 4.2 Generate Test Design\n",
    "### Outputs:\n",
    "- Test Design\n",
    "\n",
    "## 4.3 Build Model\n",
    "### Outputs:\n",
    "- Parameter Settings\n",
    "- Models\n",
    "- Model Descriptions\n",
    "\n",
    "## 4.4 Assess Model\n",
    "### Outputs:\n",
    "\n",
    "- Model Assessment\n",
    "- Revised Parameter\n",
    "- Settings"
   ]
  }
 ],
 "metadata": {
  "kernelspec": {
   "display_name": "Python 3",
   "language": "python",
   "name": "python3"
  },
  "language_info": {
   "codemirror_mode": {
    "name": "ipython",
    "version": 3
   },
   "file_extension": ".py",
   "mimetype": "text/x-python",
   "name": "python",
   "nbconvert_exporter": "python",
   "pygments_lexer": "ipython3",
   "version": "3.4.3"
  }
 },
 "nbformat": 4,
 "nbformat_minor": 2
}
